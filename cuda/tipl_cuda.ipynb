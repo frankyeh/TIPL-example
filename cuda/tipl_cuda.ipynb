{
  "nbformat": 4,
  "nbformat_minor": 0,
  "metadata": {
    "colab": {
      "name": "tipl_cuda.ipynb",
      "provenance": [],
      "authorship_tag": "ABX9TyMIgsiamHc056qso1Xpwgpo",
      "include_colab_link": true
    },
    "kernelspec": {
      "name": "python3",
      "display_name": "Python 3"
    },
    "language_info": {
      "name": "python"
    },
    "accelerator": "GPU",
    "gpuClass": "standard"
  },
  "cells": [
    {
      "cell_type": "markdown",
      "metadata": {
        "id": "view-in-github",
        "colab_type": "text"
      },
      "source": [
        "<a href=\"https://colab.research.google.com/github/frankyeh/TIPL-example/blob/main/cuda/tipl_cuda.ipynb\" target=\"_parent\"><img src=\"https://colab.research.google.com/assets/colab-badge.svg\" alt=\"Open In Colab\"/></a>"
      ]
    },
    {
      "cell_type": "code",
      "execution_count": null,
      "metadata": {
        "id": "ElbP3ShsIGxS"
      },
      "outputs": [],
      "source": [
        "!git clone http://github.com/frankyeh/TIPL/"
      ]
    },
    {
      "cell_type": "code",
      "source": [
        "!git clone http://github.com/frankyeh/TIPL-example/"
      ],
      "metadata": {
        "id": "iz-PBG6JIgNA"
      },
      "execution_count": null,
      "outputs": []
    },
    {
      "cell_type": "code",
      "source": [
        "!cp ./TIPL-example/cuda/**/*.cu ."
      ],
      "metadata": {
        "id": "4kZ-J9X0RZwg"
      },
      "execution_count": 15,
      "outputs": []
    },
    {
      "cell_type": "code",
      "source": [
        "!apt full-upgrade -y"
      ],
      "metadata": {
        "id": "nnXFUBqlIvo3"
      },
      "execution_count": null,
      "outputs": []
    },
    {
      "cell_type": "code",
      "source": [
        "!add-apt-repository -y ppa:ubuntu-toolchain-r/test"
      ],
      "metadata": {
        "id": "YknBuIAAMMGD"
      },
      "execution_count": null,
      "outputs": []
    },
    {
      "cell_type": "code",
      "source": [
        "!apt install --no-install-recommends -y gcc-9 g++-9"
      ],
      "metadata": {
        "id": "3C9UOXERQAA5"
      },
      "execution_count": null,
      "outputs": []
    },
    {
      "cell_type": "code",
      "source": [
        "!update-alternatives --install /usr/bin/gcc gcc /usr/bin/gcc-9 99 "
      ],
      "metadata": {
        "colab": {
          "base_uri": "https://localhost:8080/"
        },
        "id": "1yPkUGmvQTgx",
        "outputId": "4607e6f1-7147-4a8d-a728-c182b8c0eb43"
      },
      "execution_count": 11,
      "outputs": [
        {
          "output_type": "stream",
          "name": "stdout",
          "text": [
            "update-alternatives: using /usr/bin/gcc-9 to provide /usr/bin/gcc (gcc) in auto mode\n"
          ]
        }
      ]
    },
    {
      "cell_type": "code",
      "source": [
        "!nvcc basic_op.cu --extended-lambda --std=c++17"
      ],
      "metadata": {
        "id": "6ksCscmmI31E"
      },
      "execution_count": null,
      "outputs": []
    },
    {
      "cell_type": "code",
      "source": [
        ""
      ],
      "metadata": {
        "id": "1sIpQShMRlWY"
      },
      "execution_count": null,
      "outputs": []
    }
  ]
}